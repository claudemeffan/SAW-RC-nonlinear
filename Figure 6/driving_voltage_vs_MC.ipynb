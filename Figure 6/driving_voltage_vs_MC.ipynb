{
 "cells": [
  {
   "cell_type": "markdown",
   "id": "68d01d83",
   "metadata": {},
   "source": [
    "# Maximum Memory Capacity versus driving voltage\n",
    "\n",
    "Take the  memory capacity from the maximum perfromance parameter point, and plots it as a function of driving voltage\n",
    "\n"
   ]
  },
  {
   "cell_type": "code",
   "execution_count": 1,
   "id": "df5663ee",
   "metadata": {},
   "outputs": [],
   "source": [
    "import matplotlib.pyplot as plt\n",
    "from os import listdir\n",
    "from pandas import read_excel\n",
    "import numpy as np\n",
    "import matplotlib.pyplot as plt\n",
    "import matplotlib as mpl\n",
    "import pandas as pd\n",
    "from sklearn.linear_model import RidgeCV\n",
    "from sklearn.model_selection import RepeatedKFold\n",
    "from itertools import cycle\n",
    "\n",
    "\n",
    "V = [2.5, 3, 3.5 , 4, 4.25, 4.5, 5, 6]"
   ]
  },
  {
   "cell_type": "code",
   "execution_count": 2,
   "id": "47658314",
   "metadata": {},
   "outputs": [],
   "source": [
    "def fit_data(reservoir_states, target, order):\n",
    "    sync = order - 1\n",
    "    alphas = np.arange(0.000000001, 0.1, 0.01)\n",
    "    cv = RepeatedKFold(n_splits=10, n_repeats=3, random_state=1)\n",
    "    output_network = RidgeCV(alphas = alphas, cv = cv)\n",
    "    \n",
    "    # scale and save the training data\n",
    "    trained_data = reservoir_states[sync:len(target)+sync, 0:127]\n",
    "    # Train the output network.\n",
    "    output_network = output_network.fit(trained_data, target)\n",
    "    \n",
    "    return output_network.score(trained_data, target), output_network\n",
    "\n",
    "def parity_success_rate(output, target):\n",
    "    binary_output = []\n",
    "    halfway = (max(target) - min(target)) / 2\n",
    "    for symbol in output:\n",
    "        if symbol > halfway:\n",
    "            binary_output.append(1)\n",
    "        else:\n",
    "            binary_output.append(0)\n",
    "    success = 0\n",
    "    for i in range(len(target)):\n",
    "        if binary_output[i] == target[i]:\n",
    "            success += 1\n",
    "\n",
    "    return success / len(target)\n",
    "\n",
    "def mutual_information_parity(sr):\n",
    "    if sr == 1.0:\n",
    "        return sr*np.log2(2*sr)\n",
    "    else:\n",
    "        return sr*np.log2(2*sr) + (1-sr)*np.log2(2*(1-sr))\n",
    "    \n",
    "def calculate_parity_stream(bit_stream, order, delta):\n",
    "    parity_stream = np.array([])\n",
    "    for i in range(delta):\n",
    "        parity_stream = np.append(parity_stream, 0)\n",
    "    for i in range(order + delta - 1, len(bit_stream)):\n",
    "        parity_sum = 0\n",
    "        for ii in range(order):\n",
    "            parity_sum += float(bit_stream[i - delta - ii])\n",
    "        parity = parity_sum % 2\n",
    "        parity_stream = np.append(parity_stream, parity)\n",
    "        \n",
    "    return parity_stream"
   ]
  },
  {
   "cell_type": "code",
   "execution_count": 3,
   "id": "fa6cffb4",
   "metadata": {},
   "outputs": [],
   "source": [
    "# Loads the identified high performance reservoir computer\n",
    "ampl_axis = []\n",
    "freqeuncy_axis = []\n",
    "data_axis = []\n",
    "\n",
    "for ampl in V:\n",
    "    ampl_axis.append(ampl)\n",
    "    data_axis.append(read_excel(f'../Data {ampl}V Driving/3.68421052631579e-05-nodes-39110526.xlsx', index_col = None))\n",
    "    "
   ]
  },
  {
   "cell_type": "code",
   "execution_count": 10,
   "id": "5257605c",
   "metadata": {},
   "outputs": [
    {
     "name": "stdout",
     "output_type": "stream",
     "text": [
      "2\n"
     ]
    }
   ],
   "source": [
    "# Calculates the memory capacity of the reservoir states\n",
    "order = [2]\n",
    "delta = np.arange(8,-1,-1)\n",
    "\n",
    "r2_axis = {1:[],2:[], 3:[], 4:[], 5:[], 6:[], 7:[]}\n",
    "p_axis =  {1:[],2:[], 3:[], 4:[], 5:[], 6:[], 7:[]}\n",
    "mc_axis = {1:[],2:[], 3:[], 4:[], 5:[], 6:[], 7:[]}\n",
    "mi_axis = {1:[],2:[], 3:[], 4:[], 5:[], 6:[], 7:[]}\n",
    "train_until = 1000\n",
    "\n",
    "\n",
    "for test in order:\n",
    "    print(test)\n",
    "    for dat in data_axis:\n",
    "        MI = []\n",
    "        #calculating the mutual information/memory capcaity\n",
    "        for d in delta:\n",
    "            parity_stream = calculate_parity_stream(dat[\"inputs\"], test, d)\n",
    "            arry = dat.to_numpy()[:,1:-1]\n",
    "            r2, net = fit_data(arry, parity_stream[:train_until], test)\n",
    "            end= len(parity_stream)\n",
    "            sr = parity_success_rate(net.predict(arry[train_until - end:,:]), parity_stream[train_until - end:])\n",
    "            #print(f\"Delay:{d},R^2:{r2}, Surccess Rate: {sr})\")\n",
    "            mi = mutual_information_parity(sr)\n",
    "            MI.append(mi)\n",
    "        mi_axis[test].append(MI)\n",
    "        mc_axis[test].append(np.sum(MI))\n",
    "        p_axis[test].append(sr)\n",
    "        r2_axis[test].append(r2)\n",
    "        "
   ]
  },
  {
   "cell_type": "code",
   "execution_count": 22,
   "id": "f0f17cf4",
   "metadata": {},
   "outputs": [
    {
     "data": {
      "image/png": "[encoded data removed]",
      "text/plain": [
       "<Figure size 194.4x165.6 with 1 Axes>"
      ]
     },
     "metadata": {
      "needs_background": "light"
     },
     "output_type": "display_data"
    }
   ],
   "source": [
    "mpl.rcParams.update({'font.size': 7})\n",
    "mpl.rcParams['font.family'] = \"sans-serif\"\n",
    "mpl.rcParams['font.sans-serif'] = \"Arial\"\n",
    "mpl.rcParams['font.style'] = \"italic\"\n",
    "\n",
    "fig, ax = plt.subplots(1,1, figsize = (2.7,2.3))\n",
    "ax.plot(V, mc_axis[2], 'k--')\n",
    "ax.plot(V, mc_axis[2], 'rs', markersize=4)\n",
    "plt.grid('both')\n",
    "plt.ylabel(\"$MC_{2,0}$ [bits]\")\n",
    "plt.xlabel(\"Driving voltage [Volts]\")\n",
    "\n",
    "plt.tight_layout()\n",
    "plt.savefig('driving_voltage_versus_memory.png', dpi=500)"
   ]
  },
  {
   "cell_type": "code",
   "execution_count": null,
   "id": "b4ea9e9c",
   "metadata": {},
   "outputs": [],
   "source": []
  }
 ],
 "metadata": {
  "kernelspec": {
   "display_name": "Python 3 (ipykernel)",
   "language": "python",
   "name": "python3"
  },
  "language_info": {
   "codemirror_mode": {
    "name": "ipython",
    "version": 3
   },
   "file_extension": ".py",
   "mimetype": "text/x-python",
   "name": "python",
   "nbconvert_exporter": "python",
   "pygments_lexer": "ipython3",
   "version": "3.8.15"
  }
 },
 "nbformat": 4,
 "nbformat_minor": 5
}
