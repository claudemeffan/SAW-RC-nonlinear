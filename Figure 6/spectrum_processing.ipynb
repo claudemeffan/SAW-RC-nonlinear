{
 "cells": [
  {
   "cell_type": "code",
   "execution_count": 1,
   "metadata": {},
   "outputs": [],
   "source": [
    "import pandas as pd\n",
    "import matplotlib.pyplot as plt\n",
    "import numpy as np\n",
    "import scipy.signal as signal\n",
    "import matplotlib as mpl\n",
    "plt.rcParams[\"font.family\"] = \"Arial\"\n",
    "mpl.rcParams.update({'font.size': 7})\n",
    "mpl.rcParams['font.family'] = \"sans-serif\"\n",
    "mpl.rcParams['font.sans-serif'] = \"Arial\"\n",
    "mpl.rcParams['font.style'] = \"italic\""
   ]
  },
  {
   "cell_type": "code",
   "execution_count": 2,
   "metadata": {},
   "outputs": [
    {
     "data": {
      "text/plain": [
       "Index(['Frequency', 'Signal'], dtype='object')"
      ]
     },
     "execution_count": 2,
     "metadata": {},
     "output_type": "execute_result"
    }
   ],
   "source": [
    "source = pd.read_excel('source.xlsx')\n",
    "saw = pd.read_excel('saw-33.xlsx')\n",
    "source.keys()"
   ]
  },
  {
   "cell_type": "code",
   "execution_count": 18,
   "metadata": {},
   "outputs": [
    {
     "data": {
      "image/png": "[encoded data removed]",
      "text/plain": [
       "<Figure size 270x230 with 1 Axes>"
      ]
     },
     "metadata": {},
     "output_type": "display_data"
    }
   ],
   "source": [
    "fig, ax = plt.subplots(1,1, figsize=(2.7, 2.3))\n",
    "\n",
    "peaks_sig = signal.find_peaks(source['Signal'], threshold = 2)\n",
    "peaks_saw = signal.find_peaks(saw['Signal'], threshold = 3)\n",
    "\n",
    "\n",
    "\n",
    "ax.plot(source['Frequency'][1: ]/1e6, source['Signal'][1:], 'k', linewidth=2,label = 'Source')\n",
    "ax.plot(saw['Frequency'][1:]/1e6, saw['Signal'][1:], 'g', linewidth=1.5 ,label = 'SAW')\n",
    "\n",
    "\n",
    "plt.grid('both')\n",
    "plt.xlabel('Frequency (MHz)')\n",
    "plt.ylabel('Signal Power (dBm)')\n",
    "plt.legend(loc=0,fontsize=8)\n",
    "plt.tight_layout()\n",
    "plt.savefig('fig3c.png', dpi=500)\n"
   ]
  },
  {
   "cell_type": "code",
   "execution_count": 5,
   "metadata": {},
   "outputs": [
    {
     "data": {
      "text/plain": [
       "134   -59.6456\n",
       "313     5.4736\n",
       "492   -58.8618\n",
       "627   -13.8799\n",
       "Name: Signal, dtype: float64"
      ]
     },
     "execution_count": 5,
     "metadata": {},
     "output_type": "execute_result"
    }
   ],
   "source": [
    "#saw['Signal'][peaks_saw[0]]\n",
    "source['Signal'][peaks_sig[0]]\n"
   ]
  },
  {
   "cell_type": "code",
   "execution_count": 95,
   "metadata": {},
   "outputs": [
    {
     "data": {
      "text/plain": [
       "313    -2.9373\n",
       "627   -58.2012\n",
       "Name: Signal, dtype: float64"
      ]
     },
     "execution_count": 95,
     "metadata": {},
     "output_type": "execute_result"
    }
   ],
   "source": [
    "saw['Signal'][peaks_saw[0]]"
   ]
  },
  {
   "cell_type": "code",
   "execution_count": 4,
   "metadata": {},
   "outputs": [
    {
     "name": "stdout",
     "output_type": "stream",
     "text": [
      "Peak is at -8.4\n",
      "Harmonic is at -44.321\n"
     ]
    }
   ],
   "source": [
    "print(\"Peak is at {}\".format(-2.93 - 5.47))\n",
    "\n",
    "print('Harmonic is at {}'.format(-58.201+13.88))\n",
    "\n"
   ]
  },
  {
   "cell_type": "code",
   "execution_count": null,
   "metadata": {},
   "outputs": [],
   "source": []
  }
 ],
 "metadata": {
  "kernelspec": {
   "display_name": "Python 3 (ipykernel)",
   "language": "python",
   "name": "python3"
  },
  "language_info": {
   "codemirror_mode": {
    "name": "ipython",
    "version": 3
   },
   "file_extension": ".py",
   "mimetype": "text/x-python",
   "name": "python",
   "nbconvert_exporter": "python",
   "pygments_lexer": "ipython3",
   "version": "3.8.15"
  }
 },
 "nbformat": 4,
 "nbformat_minor": 4
}
