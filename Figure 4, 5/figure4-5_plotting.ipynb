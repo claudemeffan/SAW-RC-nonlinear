{
 "cells": [
  {
   "cell_type": "code",
   "execution_count": 10,
   "metadata": {},
   "outputs": [],
   "source": [
    "from os import listdir\n",
    "from pandas import read_excel\n",
    "import numpy as np # Numpy removed support for np.complex np.__version__ == 1.22.0 was used for this notebook\n",
    "import matplotlib.pyplot as plt\n",
    "import matplotlib as mpl\n",
    "import pandas as pd\n",
    "from sklearn.linear_model import RidgeCV\n",
    "from sklearn.model_selection import RepeatedKFold\n",
    "from itertools import cycle\n",
    "from progressbar import ProgressBar\n"
   ]
  },
  {
   "cell_type": "code",
   "execution_count": 4,
   "metadata": {},
   "outputs": [],
   "source": [
    "theta_axis = []\n",
    "freqeuncy_axis = []\n",
    "data_axis = []\n",
    "\n",
    "\n",
    "filedir = 'Data 5V Driving'\n",
    "\n",
    "\n",
    "for file in listdir(filedir):\n",
    "    if file[-5:] == \".xlsx\":\n",
    "        theta = file.split('-nodes-')[0]\n",
    "        frequency = file.split('-nodes-')[1][:-5]\n",
    "        while len(frequency) < 5:\n",
    "            frequency = frequency + '0'\n",
    "        theta_axis.append(theta)\n",
    "        freqeuncy_axis.append(frequency)\n",
    "        data_axis.append(read_excel(f'{filedir}/{file}', index_col = None))\n",
    "    \n",
    "    "
   ]
  },
  {
   "cell_type": "code",
   "execution_count": 12,
   "metadata": {},
   "outputs": [],
   "source": [
    "def fit_data(reservoir_states, target, order):\n",
    "    sync = order - 1\n",
    "    alphas = np.arange(0.000000001, 0.5, 0.1)\n",
    "    cv = RepeatedKFold(n_splits=10, n_repeats=3, random_state=1)\n",
    "    output_network = RidgeCV(alphas = alphas, cv = cv)\n",
    "    \n",
    "    # scale and save the training data\n",
    "    trained_data = reservoir_states[sync:len(target)+sync, :]\n",
    "    # Train the output network.\n",
    "    output_network = output_network.fit(trained_data, target)\n",
    "    \n",
    "    return output_network.score(trained_data, target), output_network\n",
    "\n",
    "def parity_success_rate(output, target):\n",
    "    binary_output = []\n",
    "    halfway = (max(target) - min(target)) / 2\n",
    "    for symbol in output:\n",
    "        if symbol > halfway:\n",
    "            binary_output.append(1)\n",
    "        else:\n",
    "            binary_output.append(0)\n",
    "    success = 0\n",
    "    for i in range(len(target)):\n",
    "        if binary_output[i] == target[i]:\n",
    "            success += 1\n",
    "\n",
    "    return success / len(target)\n",
    "\n",
    "def mutual_information_parity(sr):\n",
    "    if sr == 1.0:\n",
    "        return sr*np.log2(2*sr)\n",
    "    else:\n",
    "        return sr*np.log2(2*sr) + (1-sr)*np.log2(2*(1-sr))\n",
    "    \n",
    "def calculate_parity_stream(bit_stream, order, delta):\n",
    "    parity_stream = np.array([])\n",
    "    for i in range(delta):\n",
    "        parity_stream = np.append(parity_stream, 0)\n",
    "    for i in range(order + delta - 1, len(bit_stream)):\n",
    "        parity_sum = 0\n",
    "        for ii in range(order):\n",
    "            parity_sum += float(bit_stream[i - delta - ii])\n",
    "        parity = parity_sum % 2\n",
    "        parity_stream = np.append(parity_stream, parity)\n",
    "        \n",
    "    return parity_stream\n"
   ]
  },
  {
   "cell_type": "code",
   "execution_count": null,
   "metadata": {
    "tags": []
   },
   "outputs": [
    {
     "name": "stderr",
     "output_type": "stream",
     "text": [
      "  0% |                                                                         |\r"
     ]
    },
    {
     "name": "stdout",
     "output_type": "stream",
     "text": [
      "Order 4\n"
     ]
    },
    {
     "name": "stderr",
     "output_type": "stream",
     "text": [
      "100% |#########################################################################|\n",
      "  0% |                                                                         |\r"
     ]
    },
    {
     "name": "stdout",
     "output_type": "stream",
     "text": [
      "Order 5\n"
     ]
    },
    {
     "name": "stderr",
     "output_type": "stream",
     "text": [
      " 95% |#####################################################################    |\r"
     ]
    }
   ],
   "source": [
    "order = [1, 2, 3, 4, 5, 6, 7]\n",
    "delta = np.arange(10,-1,-1)\n",
    "\n",
    "#r2_axis = {1:[],2:[], 3:[], 4:[], 5:[], 6:[], 7:[]}\n",
    "#p_axis =  {1:[],2:[], 3:[], 4:[], 5:[], 6:[], 7:[]}\n",
    "#mc_axis = {1:[],2:[], 3:[], 4:[], 5:[], 6:[], 7:[]}\n",
    "#mi_axis = {1:[],2:[], 3:[], 4:[], 5:[], 6:[], 7:[]}\n",
    "train_until = 1000\n",
    "\n",
    "\n",
    "for test in order:\n",
    "    bar = ProgressBar(len(data_axis))\n",
    "    i=0\n",
    "    print(f\"Order {test}\")\n",
    "    bar.start()\n",
    "    for dat in data_axis:\n",
    "        bar.update(i)\n",
    "        MI = []\n",
    "        #calculating the mutual information/memory capcaity\n",
    "        for d in delta:\n",
    "            parity_stream = calculate_parity_stream(dat[\"inputs\"], test, d)\n",
    "            arry = dat.to_numpy()[:,1:-1]\n",
    "            r2, net = fit_data(arry, parity_stream[:train_until], test)\n",
    "            end= len(parity_stream)\n",
    "            sr = parity_success_rate(net.predict(arry[train_until - end:,:]), parity_stream[train_until - end:])\n",
    "            mi = mutual_information_parity(sr)\n",
    "            MI.append(mi)\n",
    "        i+=1\n",
    "        mi_axis[test].append(MI)\n",
    "        mc_axis[test].append(np.sum(MI))\n",
    "        p_axis[test].append(sr)\n",
    "        r2_axis[test].append(r2)\n",
    "    bar.finish()\n",
    "        \n",
    "        "
   ]
  },
  {
   "cell_type": "markdown",
   "metadata": {},
   "source": [
    "# Parity Success Rate plotting\n"
   ]
  },
  {
   "cell_type": "code",
   "execution_count": 26,
   "metadata": {},
   "outputs": [
    {
     "name": "stderr",
     "output_type": "stream",
     "text": [
      "/var/folders/4y/pym7xd1d7nl5hf_zztc0f1jh0000gn/T/ipykernel_21970/3074095337.py:109: UserWarning: This figure includes Axes that are not compatible with tight_layout, so results might be incorrect.\n",
      "  plt.tight_layout()\n"
     ]
    },
    {
     "data": {
      "image/png": "[encoded data removed]",
      "text/plain": [
       "<Figure size 400x300 with 7 Axes>"
      ]
     },
     "metadata": {},
     "output_type": "display_data"
    }
   ],
   "source": [
    "# frequency processing\n",
    "frequency = []\n",
    "for f in freqeuncy_axis:\n",
    "    frequency.append(float(f)*1e3) # Hz\n",
    "frequency = np.array(frequency)\n",
    "\n",
    "# Theta processing\n",
    "theta = []\n",
    "for t in theta_axis:\n",
    "    theta.append(float(t)) # seconds\n",
    "theta = np.array(theta)\n",
    "\n",
    "\n",
    "# Sort by frequency first\n",
    "frequency_inds = frequency.argsort()\n",
    "frequency_sorted = frequency[frequency_inds]\n",
    "theta_sorted = theta[frequency_inds]\n",
    "\n",
    "order1 = np.array(mc_axis[1])[frequency_inds]\n",
    "order2 = np.array(mc_axis[2])[frequency_inds]\n",
    "order3 = np.array(mc_axis[3])[frequency_inds]\n",
    "order4 = np.array(p_axis[4])[frequency_inds]\n",
    "order5 = np.array(p_axis[5])[frequency_inds]\n",
    "order6 = np.array(p_axis[6])[frequency_inds]\n",
    "\n",
    "\n",
    "\n",
    "# Reshape it to be a 2D array (11 frequencies invesigated)\n",
    "frequency_sorted = frequency_sorted.reshape(20, 20)\n",
    "theta_sorted = theta_sorted.reshape(20, 20)\n",
    "order1 = order2.reshape(20,20)\n",
    "order2 = order2.reshape(20,20)\n",
    "order3 = order3.reshape(20,20)\n",
    "order4 = order4.reshape(20,20)\n",
    "order5 = order5.reshape(20,20)\n",
    "order6 = order6.reshape(20,20)\n",
    "\n",
    "# Then sort by theta shape (20 theta)\n",
    "theta_inds = theta_sorted.argsort()\n",
    "for i in range(20):\n",
    "    theta_sorted[i] = theta_sorted[i][theta_inds[i]]\n",
    "    frequency_sorted[i] = frequency_sorted[i][theta_inds[i]]\n",
    "    order1[i] = order2[i][theta_inds[i]]\n",
    "    order2[i] = order2[i][theta_inds[i]]\n",
    "    order3[i] = order3[i][theta_inds[i]]\n",
    "    order4[i] = order4[i][theta_inds[i]]\n",
    "    order5[i] = order5[i][theta_inds[i]]\n",
    "    order6[i] = order6[i][theta_inds[i]]\n",
    "\n",
    "\n",
    "f_labels = frequency_sorted[:, 0]/1e9\n",
    "th_labels = theta_sorted[0, :]*1e6\n",
    "\n",
    "mpl.rcParams.update({'font.size': 5})\n",
    "mpl.rcParams['font.family'] = \"sans-serif\"\n",
    "mpl.rcParams['font.sans-serif'] = \"Arial\"\n",
    "\n",
    "\n",
    "c = 'plasma'\n",
    "fig, ax = plt.subplots(2,3, figsize=(4,3))\n",
    "\n",
    "ax[0,0].tick_params(direction='in',length=1)\n",
    "im = ax[0, 0].pcolormesh(f_labels, th_labels, order1.transpose(), cmap = c, shading='nearest')\n",
    "ax[0, 0].set_xlabel('Frequency [MHz]')\n",
    "ax[0, 0].set_ylabel('$\\Theta$ [$\\mu s$]')\n",
    "\n",
    "ax[0,1].tick_params(direction='in',length=1)\n",
    "ax[0, 1].pcolormesh(f_labels, th_labels, order2.transpose(), cmap = c, shading='nearest')\n",
    "ax[0, 1].set_xlabel('Frequency [MHz]')\n",
    "ax[0, 1].set_ylabel('$\\Theta$ [$\\mu s$]')\n",
    "\n",
    "ax[0, 2].pcolormesh(f_labels, th_labels, order3.transpose(), cmap = c, shading='nearest')\n",
    "ax[0, 2].set_xlabel('Frequency [MHz]')\n",
    "ax[0, 2].set_ylabel('$\\Theta$ [$\\mu s$]')\n",
    "ax[0, 2].tick_params(direction='in',length=1)\n",
    "\n",
    "ax[1, 0].pcolormesh(f_labels, th_labels, order4.transpose(), cmap = c, shading='nearest')\n",
    "ax[1, 0].set_xlabel('Frequency [MHz]')\n",
    "ax[1, 0].set_ylabel('$\\Theta$ [$\\mu s$]')\n",
    "ax[1, 0].tick_params(direction='in',length=1)\n",
    "\n",
    "\n",
    "ax[1, 1].pcolormesh(f_labels, th_labels, order5.transpose(), cmap = c, shading='nearest')\n",
    "ax[1, 1].set_xlabel('Frequency [MHz]')\n",
    "ax[1, 1].set_ylabel('$\\Theta$ [$\\mu s$]')\n",
    "ax[1, 1].tick_params(direction='in',length=1)\n",
    "\n",
    "\n",
    "ax[1, 2].pcolormesh(f_labels, th_labels, order6.transpose(), cmap = c, shading='nearest')\n",
    "ax[1, 2].set_xlabel('Frequency [MHz]')\n",
    "ax[1, 2].set_ylabel('$\\Theta$ [$\\mu s$]')\n",
    "ax[1, 2].tick_params(direction='in',length=1)\n",
    "\n",
    "\n",
    "fig.subplots_adjust(right=0.8)\n",
    "cbar_ax = fig.add_axes([1.02, 0.1, 0.03, 0.87])\n",
    "#fig.colorbar(im, cax=cbar_ax)\n",
    "\n",
    "plt.tight_layout()\n",
    "plt.savefig(f'{filedir}_parity_task_sucess.png', dpi=500, bbox_inches=\"tight\")"
   ]
  },
  {
   "cell_type": "markdown",
   "metadata": {},
   "source": [
    "# Memory Capacity Plotting\n"
   ]
  },
  {
   "cell_type": "code",
   "execution_count": 61,
   "metadata": {},
   "outputs": [
    {
     "name": "stderr",
     "output_type": "stream",
     "text": [
      "<ipython-input-61-357e93dd65bc>:75: UserWarning: This figure includes Axes that are not compatible with tight_layout, so results might be incorrect.\n",
      "  plt.tight_layout()\n"
     ]
    },
    {
     "data": {
      "image/png": "[encoded data removed]",
      "text/plain": [
       "<Figure size 216x180 with 2 Axes>"
      ]
     },
     "metadata": {
      "needs_background": "light"
     },
     "output_type": "display_data"
    }
   ],
   "source": [
    "f_0 = 39.138\n",
    "\n",
    "f_1w_p = f_0 + 1/th_labels\n",
    "f_1w_m = f_0 - 1/th_labels\n",
    "\n",
    "\n",
    "# frequency processing\n",
    "frequency = []\n",
    "for f in freqeuncy_axis:\n",
    "    frequency.append(float(f)) # Hz\n",
    "frequency = np.array(frequency) \n",
    "\n",
    "# Theta processing\n",
    "theta = []\n",
    "for t in theta_axis:\n",
    "    theta.append(float(t)) # seconds\n",
    "theta = np.array(theta)\n",
    "\n",
    "# Sort by frequency first\n",
    "frequency_inds = frequency.argsort()\n",
    "frequency_sorted = frequency[frequency_inds]\n",
    "theta_sorted = theta[frequency_inds]\n",
    "\n",
    "order2 = np.array(mc_axis[2])[frequency_inds]\n",
    "\n",
    "\n",
    "\n",
    "# Reshape it to be a 2D array (11 frequencies invesigated)\n",
    "frequency_sorted = frequency_sorted.reshape(20,20)\n",
    "theta_sorted = theta_sorted.reshape(20,20)\n",
    "order2 = order2.reshape(20,20)\n",
    "\n",
    "\n",
    "\n",
    "# Then sort by theta shape (7 theta)\n",
    "theta_inds = theta_sorted.argsort()\n",
    "for i in range(9):\n",
    "    theta_sorted[i] = theta_sorted[i][theta_inds[i]]\n",
    "    frequency_sorted[i] = frequency_sorted[i][theta_inds[i]]\n",
    "    order2[i] = order2[i][theta_inds[i]]\n",
    "\n",
    "\n",
    "\n",
    "f_labels = frequency_sorted[:, 0]/1e6\n",
    "th_labels = theta_sorted[0, :]*1e6\n",
    "\n",
    "mpl.rcParams.update({'font.size': 7})\n",
    "mpl.rcParams['font.family'] = \"sans-serif\"\n",
    "mpl.rcParams['font.sans-serif'] = \"Arial\"\n",
    "mpl.rcParams['font.style'] = \"italic\"\n",
    "\n",
    "c = 'plasma'\n",
    "fig, ax = plt.subplots(1, 1, figsize=(3,2.5))\n",
    "ax.tick_params(direction='in')\n",
    "\n",
    "ax.axvline(f_0, color = 'k', linestyle = '-', linewidth = 1, label = '$f_0$')\n",
    "ax.plot(f_1w_p, th_labels, 'k-.', linewidth = 1.1, label = 'USB')\n",
    "ax.plot(f_1w_m, th_labels, 'k--', linewidth = 1.1, label = 'LSB')\n",
    "plt.legend()\n",
    "\n",
    "\n",
    "ma = np.max(order2)\n",
    "im = ax.pcolormesh(f_labels, th_labels, order2.transpose(),vmin=0, vmax=ma, cmap = c, shading='nearest')\n",
    "ax.set_xlabel('Frequency [MHz]')\n",
    "ax.set_ylabel('Theta [$\\mu s$]')\n",
    "\n",
    "\n",
    "fig.subplots_adjust(right=0.8)\n",
    "cbar_ax = fig.add_axes([0.96, 0.18, 0.05, 0.75])\n",
    "fig.colorbar(im, cax=cbar_ax)\n",
    "\n",
    "# Plot center frequency and AM sidebands\n",
    "\n",
    "#ax.set_xlim((39.1, 39.2))\n",
    "plt.tight_layout()\n",
    "plt.savefig(f'{filedir}_memory_capacity.png', dpi=500, bbox_inches=\"tight\")"
   ]
  },
  {
   "cell_type": "code",
   "execution_count": 43,
   "metadata": {},
   "outputs": [
    {
     "name": "stdout",
     "output_type": "stream",
     "text": [
      "39115789.0\n",
      "4.947368421052632e-05\n"
     ]
    }
   ],
   "source": [
    "best_perform = np.argmax(order2)\n",
    "\n",
    "print(frequency_sorted[best_perform//20, best_perform%20])\n",
    "print(theta_sorted[best_perform//20, best_perform%20])\n"
   ]
  },
  {
   "cell_type": "code",
   "execution_count": 44,
   "metadata": {},
   "outputs": [
    {
     "ename": "AttributeError",
     "evalue": "'numpy.ndarray' object has no attribute 'tick_params'",
     "output_type": "error",
     "traceback": [
      "\u001b[0;31m---------------------------------------------------------------------------\u001b[0m",
      "\u001b[0;31mAttributeError\u001b[0m                            Traceback (most recent call last)",
      "\u001b[0;32m<ipython-input-44-ed40d151e259>\u001b[0m in \u001b[0;36m<module>\u001b[0;34m\u001b[0m\n\u001b[1;32m      9\u001b[0m \u001b[0;34m\u001b[0m\u001b[0m\n\u001b[1;32m     10\u001b[0m \u001b[0mfig\u001b[0m\u001b[0;34m,\u001b[0m \u001b[0max\u001b[0m \u001b[0;34m=\u001b[0m \u001b[0mplt\u001b[0m\u001b[0;34m.\u001b[0m\u001b[0msubplots\u001b[0m\u001b[0;34m(\u001b[0m\u001b[0;36m7\u001b[0m\u001b[0;34m,\u001b[0m\u001b[0;36m1\u001b[0m\u001b[0;34m,\u001b[0m\u001b[0mfigsize\u001b[0m \u001b[0;34m=\u001b[0m \u001b[0;34m(\u001b[0m\u001b[0;36m2\u001b[0m\u001b[0;34m,\u001b[0m \u001b[0;36m4\u001b[0m\u001b[0;34m)\u001b[0m\u001b[0;34m)\u001b[0m\u001b[0;34m\u001b[0m\u001b[0;34m\u001b[0m\u001b[0m\n\u001b[0;32m---> 11\u001b[0;31m \u001b[0max\u001b[0m\u001b[0;34m.\u001b[0m\u001b[0mtick_params\u001b[0m\u001b[0;34m(\u001b[0m\u001b[0mdirection\u001b[0m\u001b[0;34m=\u001b[0m\u001b[0;34m'in'\u001b[0m\u001b[0;34m)\u001b[0m\u001b[0;34m\u001b[0m\u001b[0;34m\u001b[0m\u001b[0m\n\u001b[0m\u001b[1;32m     12\u001b[0m \u001b[0;34m\u001b[0m\u001b[0m\n\u001b[1;32m     13\u001b[0m \u001b[0max\u001b[0m\u001b[0;34m[\u001b[0m\u001b[0;36m0\u001b[0m\u001b[0;34m]\u001b[0m\u001b[0;34m.\u001b[0m\u001b[0mstep\u001b[0m\u001b[0;34m(\u001b[0m\u001b[0mnp\u001b[0m\u001b[0;34m.\u001b[0m\u001b[0mlinspace\u001b[0m\u001b[0;34m(\u001b[0m\u001b[0;36m0\u001b[0m\u001b[0;34m,\u001b[0m\u001b[0;36m49\u001b[0m\u001b[0;34m,\u001b[0m\u001b[0;36m50\u001b[0m\u001b[0;34m)\u001b[0m\u001b[0;34m,\u001b[0m \u001b[0mfinal_network\u001b[0m\u001b[0;34m[\u001b[0m\u001b[0;34m\"inputs\"\u001b[0m\u001b[0;34m]\u001b[0m\u001b[0;34m[\u001b[0m\u001b[0;34m-\u001b[0m\u001b[0;36m50\u001b[0m\u001b[0;34m:\u001b[0m\u001b[0;34m]\u001b[0m\u001b[0;34m,\u001b[0m \u001b[0;34m'k'\u001b[0m\u001b[0;34m,\u001b[0m \u001b[0mlinewidth\u001b[0m\u001b[0;34m=\u001b[0m\u001b[0;36m0.5\u001b[0m\u001b[0;34m)\u001b[0m\u001b[0;34m\u001b[0m\u001b[0;34m\u001b[0m\u001b[0m\n",
      "\u001b[0;31mAttributeError\u001b[0m: 'numpy.ndarray' object has no attribute 'tick_params'"
     ]
    },
    {
     "data": {
      "image/png": "[encoded data removed]",
      "text/plain": [
       "<Figure size 144x288 with 7 Axes>"
      ]
     },
     "metadata": {
      "needs_background": "light"
     },
     "output_type": "display_data"
    }
   ],
   "source": [
    "mpl.rcParams.update({'font.size': 5})\n",
    "mpl.rcParams['font.family'] = \"sans-serif\"\n",
    "mpl.rcParams['font.sans-serif'] = \"Arial\"\n",
    "mpl.rcParams['font.style'] = \"italic\"\n",
    "\n",
    "# The highest performing parameters\n",
    "final_network = read_excel(f'{filedir}/3.68421052631579e-05-nodes-39110526.xlsx')\n",
    "arry = final_network.to_numpy()[:,1:-1]\n",
    "\n",
    "fig, ax = plt.subplots(7,1,figsize = (2, 4))\n",
    "ax.tick_params(direction='in')\n",
    "\n",
    "ax[0].step(np.linspace(0,49,50), final_network[\"inputs\"][-50:], 'k', linewidth=0.5)\n",
    "ax[0].set_xticks([])\n",
    "ax[0].set_yticks([0,1])\n",
    "ax[0].set_ylim((-0.1, 1.1))\n",
    "ax[0].tick_params(direction='in', length=1)\n",
    "\n",
    "train_until = 1000\n",
    "\n",
    "for order in range(2,8):\n",
    "    parity_stream = calculate_parity_stream(final_network[\"inputs\"], order, 0)\n",
    "    r2, net = fit_data(arry, parity_stream[:train_until], order)\n",
    "    end= len(parity_stream)\n",
    "    sr = parity_success_rate(net.predict(arry[train_until - end:,:]), parity_stream[train_until - end:])\n",
    "    print(sr)\n",
    "    ax[order-1].step(np.linspace(0,49,50), parity_stream[-50:], 'k', linewidth=0.5)\n",
    "    ax[order-1].step(np.linspace(0,49,50), net.predict(arry[-50:,:]),'g-', linewidth=0.5)\n",
    "    #ax[order-1].tick_params(direction='in', length=1)\n",
    "    ax[order-1].set_xticks([])\n",
    "    ax[order-1].set_ylim((-0.1, 1.1))\n",
    "    ax[order-1].set_yticks([0,1])\n",
    "\n",
    "plt.legend([\"Target\", \"Prediction\"],loc=(0.63, 7.45))\n",
    "plt.tight_layout()\n",
    "plt.savefig(f'{filedir}_parity_task.png', dpi=500)"
   ]
  },
  {
   "cell_type": "code",
   "execution_count": 45,
   "metadata": {},
   "outputs": [
    {
     "data": {
      "image/png": "[encoded data removed]",
      "text/plain": [
       "<Figure size 216x162 with 1 Axes>"
      ]
     },
     "metadata": {
      "needs_background": "light"
     },
     "output_type": "display_data"
    }
   ],
   "source": [
    "fig, ax = plt.subplots(1,1,figsize = (3,2.25))\n",
    "max_ind = np.argmax(mc_axis[2])\n",
    "\n",
    "mpl.rcParams.update({'font.size': 7})\n",
    "mpl.rcParams['font.family'] = \"sans-serif\"\n",
    "mpl.rcParams['font.sans-serif'] = \"Arial\"\n",
    "\n",
    "\n",
    "lines = [\"kd--\",\"r^--\",\"g*-.\",\"b.:\", \"m1--\"]\n",
    "linecycler = cycle(lines)\n",
    "\n",
    "for key in mi_axis:\n",
    "    ax.plot(np.arange(8,-1,-1),mi_axis[key][max_ind], next(linecycler), markersize = 4, label=f\"$MC_{key}$ = {np.sum(mi_axis[key][max_ind]):.2f} Bits\", linewidth=1)\n",
    "    \n",
    "plt.grid('both')\n",
    "ax.tick_params(direction=\"in\")\n",
    "plt.xlabel('Delay [Timesteps]')\n",
    "plt.ylabel('Mutual Information [Bits]')\n",
    "plt.xlim((-0.5, 12))\n",
    "plt.legend()\n",
    "plt.tight_layout()\n",
    "\n",
    "plt.savefig('mutual_information.png',layout='tight', dpi=500)"
   ]
  }
 ],
 "metadata": {
  "kernelspec": {
   "display_name": "Python 3 (ipykernel)",
   "language": "python",
   "name": "python3"
  },
  "language_info": {
   "codemirror_mode": {
    "name": "ipython",
    "version": 3
   },
   "file_extension": ".py",
   "mimetype": "text/x-python",
   "name": "python",
   "nbconvert_exporter": "python",
   "pygments_lexer": "ipython3",
   "version": "3.8.15"
  }
 },
 "nbformat": 4,
 "nbformat_minor": 4
}
