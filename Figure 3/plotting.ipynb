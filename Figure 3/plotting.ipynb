{
 "cells": [
  {
   "cell_type": "code",
   "execution_count": 44,
   "metadata": {},
   "outputs": [],
   "source": [
    "from mpl_toolkits.mplot3d import axes3d\n",
    "import numpy as np\n",
    "from pandas import read_table\n",
    "import skrf as rf\n",
    "import matplotlib.pyplot as plt\n",
    "import matplotlib as mpl\n",
    "\n",
    "mpl.rcParams.update({'font.size': 5})\n",
    "mpl.rcParams['font.family'] = \"sans-serif\"\n",
    "mpl.rcParams['font.sans-serif'] = \"Arial\"\n",
    "mpl.rcParams['font.style'] = \"italic\"\n",
    "%matplotlib qt\n"
   ]
  },
  {
   "cell_type": "code",
   "execution_count": 12,
   "metadata": {},
   "outputs": [],
   "source": [
    "n100 = rf.Network(\"100N/s-param-high-density.s2p\")\n",
    "n120 = rf.Network(\"120N/s-param-high-density.s2p\")\n",
    "n140 = rf.Network(\"140N/s-param-high-density.s2p\")\n",
    "n160 = rf.Network(\"160N/s-param-high-density.s2p\")\n",
    "n180 = rf.Network(\"180N/s-param-high-density.s2p\")\n",
    "n200 = rf.Network(\"200N/s-param-high-density.s2p\")\n",
    "\n",
    "device_list = [n100, n120, n140, n160, n180, n200]"
   ]
  },
  {
   "cell_type": "code",
   "execution_count": 13,
   "metadata": {},
   "outputs": [],
   "source": [
    "def Q_factor(trace, frequency):\n",
    "    \"Must be input in dB\"\n",
    "    maximum_value = np.max(trace)\n",
    "    db3 = maximum_value-3.0\n",
    "    f_0 = frequency[np.argmax(trace)]\n",
    "    i=0\n",
    "    while (trace[i] < db3):\n",
    "        i += 1\n",
    "    f_low = frequency[i]\n",
    "    while (trace[i] > db3):\n",
    "        i += 1\n",
    "    f_high = frequency[i]\n",
    "    Q = f_0/(f_high-f_low)\n",
    "    return Q\n",
    "    "
   ]
  },
  {
   "cell_type": "code",
   "execution_count": 14,
   "metadata": {},
   "outputs": [
    {
     "data": {
      "image/png": "[encoded data removed]",
      "text/plain": [
       "<Figure size 240.48x144 with 1 Axes>"
      ]
     },
     "metadata": {
      "needs_background": "light"
     },
     "output_type": "display_data"
    }
   ],
   "source": [
    "Q_list = []\n",
    "N = np.array([100, 120, 140, 160, 180, 200])\n",
    "fig, ax = plt.subplots(1,1,figsize=(3.34,2))\n",
    "i =0\n",
    "for device in device_list:\n",
    "    ax.plot(device.f/1e6, 8001*[N[i]], device.s_mag[:, 0][:,1], linewidth=2)\n",
    "    Q_list.append(Q_factor(device.s_db[:, 0][:,1], device.f))\n",
    "    i+=1\n",
    "plt.show()"
   ]
  },
  {
   "cell_type": "markdown",
   "metadata": {},
   "source": [
    "##### "
   ]
  },
  {
   "cell_type": "code",
   "execution_count": 41,
   "metadata": {},
   "outputs": [
    {
     "data": {
      "image/png": "[encoded data removed]",
      "text/plain": [
       "<Figure size 240.48x240.48 with 1 Axes>"
      ]
     },
     "metadata": {
      "needs_background": "light"
     },
     "output_type": "display_data"
    }
   ],
   "source": [
    "fig = plt.figure(figsize = (3.34,3.34))\n",
    "\n",
    "\n",
    "ax = fig.add_subplot(111, projection =  '3d')\n",
    "i=0\n",
    "\n",
    "for device in device_list:\n",
    "    ax.plot(device.f/1e6, 8001*[N[i]], device.s_mag[:, 0][:,1], linewidth=1)\n",
    "    i+=1\n",
    "plt.tight_layout()\n",
    "\n",
    "ax.set_zlabel('Amplitude (mV)')\n",
    "ax.set_xlabel('Frequency (MHz)')\n",
    "ax.set_ylabel('Bragg Periods')\n",
    "ax.view_init(25, 60)\n",
    "ax.grid(False)\n",
    "ax.w_xaxis.set_pane_color((1.0, 1.0, 1.0, 1.0))\n",
    "ax.w_yaxis.set_pane_color((1.0, 1.0, 1.0, 1.0))\n",
    "ax.w_zaxis.set_pane_color((1.0, 1.0, 1.0, 1.0))\n",
    "ax.dist = 11\n",
    "\n",
    "\n",
    "plt.savefig('3D frequecy response.png', dpi=500, bbox_inches='tight')"
   ]
  },
  {
   "cell_type": "code",
   "execution_count": 26,
   "metadata": {},
   "outputs": [],
   "source": [
    "fig = plt.figure(figsize = (3.34,2))\n",
    "\n",
    "ax = fig.add_subplot(111)\n",
    "\n",
    "# the labels and titles\n",
    "a = np.polyfit(N, Q_list, 1)\n",
    "ax.plot(N, a[0]*N + a[1], 'k--')\n",
    "ax.plot(N, Q_list, 'kx', markersize=9)\n",
    "ax.grid('both')\n",
    "ax.set_ylabel('Quality Factor')\n",
    "ax.set_xlabel('Bragg Reflector Periods')\n",
    "\n",
    "plt.savefig('quality_factor.png', dpi=500, bbox_inches='tight')"
   ]
  },
  {
   "cell_type": "code",
   "execution_count": 46,
   "metadata": {},
   "outputs": [],
   "source": [
    "fig, ax = plt.subplots(2,1,figsize=(5,5))\n",
    "\n",
    "ax[0].plot(n200.f/1e6, n200.s_mag[:, 0][:,1],'k')\n",
    "ax[0].grid('both')\n",
    "ax[0].set_xlabel('Frequency (MHz)')\n",
    "ax[0].set_ylabel('Magnitude (mV)')\n",
    "\n",
    "\n",
    "ax[1].plot(n200.f/1e6, n200.s_deg[:, 0][:,1],'k')\n",
    "ax[1].grid('both')\n",
    "ax[1].set_xlabel('Frequency (MHz)')\n",
    "ax[1].set_ylabel('Phase (deg)')\n",
    "\n",
    "\n",
    "plt.tight_layout()\n",
    "plt.show()\n",
    "\n",
    "plt.savefig('basic_transmission.png', dpi=500)"
   ]
  },
  {
   "cell_type": "code",
   "execution_count": 47,
   "metadata": {},
   "outputs": [],
   "source": [
    "n200.plot_s_smith()"
   ]
  },
  {
   "cell_type": "code",
   "execution_count": 52,
   "metadata": {},
   "outputs": [],
   "source": [
    "plt.plot([1,2,3])\n",
    "plt.xlabel('$\\Theta$ [$\\mu s$]')\n",
    "plt.savefig('justfortheaxis.png', dpi=500)"
   ]
  },
  {
   "cell_type": "code",
   "execution_count": null,
   "metadata": {},
   "outputs": [],
   "source": []
  }
 ],
 "metadata": {
  "kernelspec": {
   "display_name": "Python 3",
   "language": "python",
   "name": "python3"
  },
  "language_info": {
   "codemirror_mode": {
    "name": "ipython",
    "version": 3
   },
   "file_extension": ".py",
   "mimetype": "text/x-python",
   "name": "python",
   "nbconvert_exporter": "python",
   "pygments_lexer": "ipython3",
   "version": "3.8.3"
  }
 },
 "nbformat": 4,
 "nbformat_minor": 4
}
